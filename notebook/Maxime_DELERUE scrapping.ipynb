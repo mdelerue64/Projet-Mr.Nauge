{
 "cells": [
  {
   "cell_type": "markdown",
   "metadata": {},
   "source": [
    "## Import"
   ]
  },
  {
   "cell_type": "code",
   "execution_count": 55,
   "metadata": {},
   "outputs": [],
   "source": [
    "import requests\n",
    "from requests_html import HTMLSession "
   ]
  },
  {
   "cell_type": "code",
   "execution_count": 64,
   "metadata": {},
   "outputs": [],
   "source": [
    "session = HTMLSession()\n",
    "response = session.get(\"https://www.ldoceonline.com/dictionary/cochlea\")"
   ]
  },
  {
   "cell_type": "code",
   "execution_count": 50,
   "metadata": {
    "scrolled": true
   },
   "outputs": [
    {
     "data": {
      "text/plain": [
       "'<!DOCTYPE html>\\n\\n\\n<html xmlns=\"http://www.w3.org/1999/xhtml\" lang=\"en\">\\n    <head class=\"metadata\">\\n        \\r\\n        \\r\\n            \\r\\n                <script src=\"https://cdn.cookielaw.org/consent/tcf.stub.js\" type=\"text/javascript\" charset=\"UTF-8\"></script>\\r\\n                <script type=\"text/javascript\" charset=\"UTF-8\">\\r\\n            window.geofeed = function(geoFeedData) {\\r\\n                window.geofeedData = geoFeedData;\\r\\n\\r\\n                window.isGDPRMode = function() {\\r\\n                    return \"true\" === \"true\";\\r\\n                };\\r\\n\\r\\n                window.isCCPAMode = function() {\\r\\n                    return (geoFeedData.country == \"US\" && geoFeedData.state == \"CA\");\\r\\n                };\\r\\n\\r\\n                if (window.isCCPAMode()) {\\r\\n                    var otCCPAiab = document.createElement(\\'script\\');\\r\\n                    otCCPAiab.setAttribute(\\'src\\', \\'https://cdn.cookielaw.org/opt-out/otCCPAiab.js\\');\\r\\n                    otCCPAiab.setAttribute(\\'charset\\', \\'UTF-8\\');\\r\\n                    otCCPAiab.setAttribute(\\'ccpa-opt-out-ids\\', \\'C0004\\');\\r\\n                    otCCPAiab.setAttribute(\\'ccpa-opt-out-geo\\', \\'ca\\');\\r\\n                    otCCPAiab.setAttribute(\\'ccpa-opt-out-lspa\\', \\'false\\');\\r\\n                    document.head.appendChild(otCCPAiab);\\r\\n                }\\r\\n            };\\r\\n        </script>\\r\\n        <script src=\"https://geolocation.onetrust.com/cookieconsentpub/v1/geo/location/geofeed\" type=\"text/javascript\" charset=\"UTF-8\"></script>\\r\\n        <script src=\"https://cdn.cookielaw.org/scripttemplates/otSDKStub.js\" type=\"text/javascript\" charset=\"UTF-8\" data-domain-script=\"e2fdf2e5-bb91-4f7c-8aca-c702834e775d\" data-ignore-ga=\"true\" ></script>\\r\\n        <script type=\"text/javascript\">\\r\\n            function OptanonWrapper() { }\\r\\n        </script>\\r\\n    \\n        <title>cochlea | meaning of cochlea in Longman Dictionary of Contemporary English | LDOCE</title>\\n                <link rel=\"preconnect\" href=\"https://www.ldoceonline.com/\">\\n        <link rel=\"preconnect\" href=\"https://fonts.googleapis.com/\">\\n        <link rel=\"preconnect\" href=\"https://secure.quantserve.com/\">\\n        <link rel=\"preconnect\" href=\"https://pixel.quantserve.com/\">\\n\\n        <link rel=\"preconnect\" href=\"https://geolocation.onetrust.com/\">\\n        <link rel=\"preconnect\" href=\"https://cdn.cookielaw.org/\">\\n\\n        <link rel=\"preconnect\" href=\"https://securepubads.g.doubleclick.net/\">\\n        <link rel=\"preconnect\" href=\"https://c.amazon-adsystem.com\">\\n        <link rel=\"preconnect\" href=\"https://script.4dex.io\">\\n        <link rel=\"preconnect\" href=\"https://c2shb.ssp.yahoo.com\">\\n        <link rel=\"preconnect\" href=\"https://ib.adnxs.com\">\\n        <link rel=\"preconnect\" href=\"https://bidder.criteo.com\">\\n        <link rel=\"preconnect\" href=\"https://ad.impactify.io\">\\n        <link rel=\"preconnect\" href=\"https://as-sec.casalemedia.com\">\\n        <link rel=\"preconnect\" href=\"https://idm-d.openx.net\">\\n        <link rel=\"preconnect\" href=\"https://hbopenbid.pubmatic.com\">\\n        <link rel=\"preconnect\" href=\"https://fastlane.rubiconproject.com\">\\n        <link rel=\"preconnect\" href=\"https://ap.lijit.com\">\\n        <link rel=\"preconnect\" href=\"https://a.teads.tv\">\\n        <link rel=\"preconnect\" href=\"https://tlx.3lift.com\">        <script defer src=\"https://securepubads.g.doubleclick.net/tag/js/gpt.js\"></script>\\n        <script defer src=\"https://www.ldoceonline.com/external/js/pb-ldoce.min.js?version=1.2.43\"></script>\\n\\n        <meta name=\"keywords\" content=\"a part of the inner ear\" />\\n        <meta name=\"description\" content=\"cochlea meaning, definition, what is cochlea: a part of the inner ear: Learn more.\" />\\n        <meta name=\\'viewport\\' content=\\'width=device-width, initial-scale=1, maximum-scale=1, minimum-scale=1\\' />\\n        <meta http-equiv=\"X-UA-Compatible\" content=\"IE=edge\" />\\n        \\r\\n<link rel=\"canonical\" href=\"https://www.ldoceonline.com/dictionary/cochlea\"/>\\r\\n                                            <link rel=\"alternate\" hreflang=\"x-default\" href=\"https://www.ldoceonline.com/dictionary/cochlea\"/>\\r\\n                <link rel=\"alternate\" hreflang=\"en\" href=\"https://www.ldoceonline.com/dictionary/cochlea\"/>\\r\\n                                                            <link rel=\"alternate\" hreflang=\"ja\" href=\"https://www.ldoceonline.com/jp/dictionary/cochlea\"/>\\r\\n                                                            <link rel=\"alternate\" hreflang=\"es-419\" href=\"https://www.ldoceonline.com/es-LA/dictionary/cochlea\"/>\\r\\n                                                            <link rel=\"alternate\" hreflang=\"ko\" href=\"https://www.ldoceonline.com/ko/dictionary/cochlea\"/>\\r\\n                        <link rel=\"shortcut icon\" type=\"image/x-icon\" href=\"https://www.ldoceonline.com/external/images/favicon.ico?version=1.2.43\"/>\\n        \\r\\n    \\r\\n    \\r\\n        <script type=\\'text/javascript\\'>\\r\\n    //<![CDATA[\\r\\n        var iaw = iaw || {};\\r\\n        iaw.que = iaw.que || [];\\r\\n        iaw.cmd = iaw.cmd || [];\\r\\n        iaw.que.push(function() {\\r\\n            iaw.setPageLabels([ \"wprod\" ]);\\r\\n            iaw.setPageLayout(\"dictionaryshort\");\\r\\n            iaw.setPageCriteria({ \"l\": \"en\", \"pc\": \"dictionary\", \"pt\": \"entry\", \"dc\": \"english\", \"ei\": \"cochlea\", \"sfr\": \"ldoce_dict_english\" });\\r\\n            iaw.setDfpCollapseEmptyDivs(false);\\r\\n\\r\\n            iaw.setCountry(\"FR\");\\r\\n            iaw.enableBlockthrough();\\r\\n            iaw.enableGoogleAdBlockingRecovery();\\r\\n\\r\\n                        \\r\\n            iaw.enableAdSlotRefresher();\\r\\n            iaw.enablePrebidAnalytics();\\r\\n        });\\r\\n    //]]>\\r\\n    </script>\\r\\n    <script defer type=\"text/javascript\" src=\"https://www.ldoceonline.com/iaw.min.js?version=1.2.43\"></script>\\r\\n        <link rel=\"preload\" href=\"https://www.google-analytics.com/analytics.js\" as=\"script\">\\n\\n        <link rel=\"stylesheet\" href=\"https://www.ldoceonline.com/common.css?version=1.2.43\" />\\n        <link rel=\"stylesheet\" href=\"https://www.ldoceonline.com/adserver.css?version=1.2.43\" />\\n        <link rel=\"stylesheet\" href=\"https://www.ldoceonline.com/external/fonts/font-awesome/5.12.0/css/font-awesome.min.css?version=1.2.43\" />\\n        <link href=\\'https://fonts.googleapis.com/css?family=Open+Sans:300\\' rel=\\'stylesheet\\' type=\\'text/css\\' />\\n        <link href=\\'https://fonts.googleapis.com/css?family=Open+Sans:700\\' rel=\\'stylesheet\\' type=\\'text/css\\' />\\n        <link href=\\'https://fonts.googleapis.com/css?family=Open+Sans\\' rel=\\'stylesheet\\' type=\\'text/css\\' />\\n\\n        <script>\\r\\n!function(f,b,e,v,n,t,s){if(f.fbq)return;n=f.fbq=function(){n.callMethod?\\r\\nn.callMethod.apply(n,arguments):n.queue.push(arguments)};if(!f._fbq)f._fbq=n;\\r\\nn.push=n;n.loaded=!0;n.version=\\'2.0\\';n.queue=[];t=b.createElement(e);t.async=!0;\\r\\nt.src=v;s=b.getElementsByTagName(e)[0];s.parentNode.insertBefore(t,s)}(window,\\r\\ndocument,\\'script\\',\\'https://connect.facebook.net/en_US/fbevents.js\\');\\r\\n\\r\\nfbq(\\'init\\', \\'901804013276383\\');\\r\\nfbq(\\'track\\', \"PageView\");</script>\\r\\n\\n        <script type=\"text/javascript\">\\r\\n  var _qevents = _qevents || [];\\r\\n  (function() {\\r\\n    var elem = document.createElement(\\'script\\');\\r\\n    elem.src = (document.location.protocol == \"https:\" ? \"https://secure\"\\r\\n      : \"http://edge\")\\r\\n      + \".quantserve.com/quant.js\";\\r\\n    elem.async = true;\\r\\n    elem.type = \"text/javascript\";\\r\\n    var scpt = document.getElementsByTagName(\\'script\\')[0];\\r\\n    scpt.parentNode.insertBefore(elem, scpt);\\r\\n  })();\\r\\n</script>\\r\\n\\n        <script type=\"text/javascript\">\\r\\n    window.ga = function() {};\\r\\n\\r\\n    var sendGaEvent = function(eventCategory, eventAction, eventLabel, eventField) {\\r\\n        if(window.ga != null && OptanonActiveGroups.indexOf(\"C0002\") != -1) {\\r\\n            ga(\\'send\\', \\'event\\', eventCategory, eventAction, eventLabel, eventField);\\r\\n        }\\r\\n    };\\r\\n</script>\\r\\n<script type=\"text/plain\" class=\"optanon-category-C0002\">\\r\\n    window.ga = null;\\r\\n    (function(i,s,o,g,r,a,m){i[\\'GoogleAnalyticsObject\\']=r;i[r]=i[r]||function(){(i[r].q=i[r].q||[]).push(arguments)},i[r].l=1*new Date();a=s.createElement(o),m=s.getElementsByTagName(o)[0];a.async=1;a.src=g;m.parentNode.insertBefore(a,m)})(window,document,\\'script\\',\\'https://www.google-analytics.com/analytics.js\\',\\'ga\\');\\r\\n\\r\\n    ga(\\'create\\', \\'UA-786877-5\\',{cookieDomain:\\'www.ldoceonline.com\\',siteSpeedSampleRate: 10});\\r\\n    ga(\\'send\\', \\'pageview\\');\\r\\n\\r\\n    if(typeof iaw !== \\'undefined\\') {\\r\\n        iaw.que.push(function() {\\r\\n            iaw.setGA(ga);\\r\\n        });\\r\\n    }\\r\\n\\r\\n        </script>\\r\\n\\n                <!-- Format: Impact Screen -->\\r\\n    <script>\\r\\n        window.impactifyTag = window.impactifyTag || [];\\r\\n        impactifyTag.push({\\r\\n            \"appId\": \"ldoceonline.com\",\\r\\n            \"format\": \"screen\",\\r\\n            \"style\": \"impact\",\\r\\n            \"onClose\": function() {\\r\\n                iaw.log(\"Impactify - empty or close\");\\r\\n                if(\"videoonly\" != iaw.getPageLayout()) {\\r\\n                    iaw.enableStickySlot();\\r\\n                    iaw.loadNewSlot(\\'ad_stickyslot\\');\\r\\n                }\\r\\n            }\\r\\n        });\\r\\n        (function(d, s, id) {\\r\\n            var js, ijs = d.getElementsByTagName(s)[0];\\r\\n            if (d.getElementById(id)) return;\\r\\n            js = d.createElement(s); js.id = id;\\r\\n            js.src = \\'https://ad.impactify.io/static/ad/tag.js\\';\\r\\n            ijs.parentNode.insertBefore(js, ijs);\\r\\n        }(document, \\'script\\', \\'impactify-sdk\\'));\\r\\n    </script>\\r\\n\\n\\n        <script type=\"text/javascript\" src=\"https://www.ldoceonline.com/external/js/jquery-3.5.0.min.js?version=1.2.43\"></script>\\n        <script type=\"text/javascript\" src=\"https://www.ldoceonline.com/common.js?version=1.2.43\"></script>\\n    </head>\\n    <body class=\"page\">\\n        \\r\\n<div class=header>\\r\\n    <a class=\"logo_link\" href=\"https://www.ldoceonline.com/\">\\r\\n        <img class=\"logo responsive_hide_on_smartphone\" src=\\'https://www.ldoceonline.com/external/images/logo.svg?version=1.2.43\\' title=\"Go back to the home page\"/>\\r\\n        <img class=\"logo responsive_hide_on_non_smartphone\" src=\\'https://www.ldoceonline.com/external/images/logo_smartphone.svg?version=1.2.43\\' title=\"Go back to the home page\"/>\\r\\n    </a>\\r\\n                <form action=\"https://www.ldoceonline.com/search/\" class=\"search_form\" style=\"position:relative;\">\\r\\n        <div class=\"ui selection dropdown custom-select-label-container\" title=\"Select your dictionary\">\\r\\n            <span class=\"text res_hos\">English</span>\\r\\n            <i class=\"fas fa-caret-down dropdown-icon\" aria-hidden=\"true\"></i>\\r\\n            <div class=\"menu custom-select-menu\">\\r\\n                                    <a class=\"item\" data-value=\"english\" data-placeholder=\"English\">English</a>\\r\\n                                    <a class=\"item\" data-value=\"english-japanese\" data-placeholder=\"English - Japanese\">English - Japanese</a>\\r\\n                                    <a class=\"item\" data-value=\"english-korean\" data-placeholder=\"English - Korean\">English - Korean</a>\\r\\n                                    <a class=\"item\" data-value=\"english-spanish\" data-placeholder=\"English - Spanish\">English - Spanish</a>\\r\\n                                    <a class=\"item\" data-value=\"japanese-english\" data-placeholder=\"Japanese - English\">Japanese - English</a>\\r\\n                                    <a class=\"item\" data-value=\"spanish-english\" data-placeholder=\"Spanish - English\">Spanish - English</a>\\r\\n                            </div>\\r\\n        </div>\\r\\n        <button type=\"submit\" class=\"csl\"><i class=\"fas fa-search fa-fw fa-lg\"></i></button>\\r\\n        <select class=\"search_dictionary_selector custom-select\">\\r\\n                            <option value=\"english\" selected=\"selected\" data-label=\"English\" data-placeholder=\"English\">\\r\\n                    English\\r\\n                </option>\\r\\n                            <option value=\"english-japanese\"  data-label=\"English - Japanese\" data-placeholder=\"English - Japanese\">\\r\\n                    English - Japanese\\r\\n                </option>\\r\\n                            <option value=\"english-korean\"  data-label=\"English - Korean\" data-placeholder=\"English - Korean\">\\r\\n                    English - Korean\\r\\n                </option>\\r\\n                            <option value=\"english-spanish\"  data-label=\"English - Spanish\" data-placeholder=\"English - Spanish\">\\r\\n                    English - Spanish\\r\\n                </option>\\r\\n                            <option value=\"japanese-english\"  data-label=\"Japanese - English\" data-placeholder=\"Japanese - English\">\\r\\n                    Japanese - English\\r\\n                </option>\\r\\n                            <option value=\"spanish-english\"  data-label=\"Spanish - English\" data-placeholder=\"Spanish - English\">\\r\\n                    Spanish - English\\r\\n                </option>\\r\\n                    </select>\\r\\n        <div class=\"search-input-container\"><input class=\"search_input\" type=\"search\" name=\"q\" /></div>\\r\\n    </form>\\r\\n    <div class=\"header_version\">\\r\\n            <div class=\"version_selector\">\\r\\n                <div class=\"ui dropdown\">\\r\\n            <i class=\"fas fa-globe-americas\"></i>\\r\\n            <span class=\"text\">English</span>\\r\\n            <div class=\"menu\">\\r\\n                                                                                                <a class=\"item\" href=\"https://www.ldoceonline.com/jp/dictionary/cochlea\">日本語</a>\\r\\n                                                                                <a class=\"item\" href=\"https://www.ldoceonline.com/es-LA/dictionary/cochlea\">Español latino</a>\\r\\n                                                                                <a class=\"item\" href=\"https://www.ldoceonline.com/ko/dictionary/cochlea\">한국어</a>\\r\\n                                                </div>\\r\\n        </div>\\r\\n    </div>\\r\\n    </div>\\r\\n</div>\\r\\n        <div class=\"content\">\\n            <div id=\"ad_leftslot_container\">\\n                    <div class=\"ac_leftslot sticky\" data-iaw=\"container\">    <span id=\\'ad_leftslot\\' class=\\'am-dictionaryshort \\'>\\r\\n        <script type=\\'text/javascript\\'>iaw.cmd.push(function() { iaw.display(\\'ad_leftslot\\'); });</script>\\r\\n    </span>\\r\\n    </div>            </div>\\n            <div class=\"responsive_cell6\">\\n                    <div class=\"topslot-container\" data-iaw=\"container\">    <span id=\\'ad_topslot\\' class=\\'am-dictionaryshort \\'>\\r\\n        <script type=\\'text/javascript\\'>iaw.cmd.push(function() { iaw.display(\\'ad_topslot\\'); });</script>\\r\\n    </span>\\r\\n    </div>                \\r\\n\\r\\n\\r\\n\\r\\n\\r\\n\\r\\n\\r\\n\\r\\n\\r\\n\\r\\n\\r\\n\\r\\n\\r\\n\\r\\n\\r\\n\\r\\n\\r\\n\\r\\n\\r\\n\\r\\n\\r\\n\\r\\n\\r\\n\\r\\n\\r\\n\\r\\n\\r\\n\\r\\n\\r\\n\\r\\n\\r\\n\\r\\n\\r\\n\\r\\n\\r\\n\\r\\n\\r\\n\\r\\n\\r\\n\\r\\n\\r\\n\\r\\n\\r\\n<div class=\"entry_content\"><h1 class=\"pagetitle\">cochlea</h1><div class=\"dictionary\">  <span class=\"dictentry\"><span class=\"dictionary_intro span\">From Longman Dictionary of Contemporary English</span><span class=\"dictlink\"><span class=\"ldoceEntry Entry\"><span class=\"topics_container\"><span class=\"related_topics\">Related topics: </span><a class=\"topic\" title=\"Human topic\" href=\"/Human-topic/\">Human</a></span><span class=\"Head\"><span class=\"HWD\">cochlea</span><span class=\"HYPHENATION\">coch‧le‧a</span><span class=\"PronCodes\"><span class=\"neutral span\"> /</span><span class=\"PRON\">ˈkɒkliə</span><span class=\"AMEVARPRON\"><span class=\"neutral span\"> $ </span>ˈkɑː-</span><span class=\"neutral span\">/</span></span><span class=\"POS\"> noun</span><span class=\"Inflections\"><span class=\"neutral span\"> (</span><span class=\"PLURALFORM\"><span class=\"italic span\">plural </span>cochleas</span><span class=\"LINKWORD\"> or</span><span class=\"PLURALFORM\"> cochleae</span><span class=\"PronCodes\"><span class=\"neutral span\"> /</span><span class=\"PRON\">-li-aɪ</span><span class=\"neutral span\">/</span></span><span class=\"neutral span\">)</span></span><span class=\"GRAM\"><span class=\"neutral span\"> [</span>countable<span class=\"neutral span\">]</span></span><span class=\"REGISTERLAB\"> technical</span>\\n                <span data-src-mp3=\"https://www.ldoceonline.com/media/english/breProns/ld41cochlea.mp3?version=1.2.43\" class=\"speaker brefile fas fa-volume-up hideOnAmp\" title=\"Play British pronunciation of cochlea\">\\xa0</span>\\n                <span data-src-mp3=\"https://www.ldoceonline.com/media/english/ameProns/cochlea.mp3?version=1.2.43\" class=\"speaker amefile fas fa-volume-up hideOnAmp\" title=\"Play American pronunciation of cochlea\">\\xa0</span></span><span class=\"Sense\" id=\"cochlea__1\"><span class=\"FIELD\">HBH</span><span class=\"DEF\">a part of the <a class=\"defRef\" title=\"inner\" href=\"/dictionary/inner\">inner</a> <a class=\"defRef\" title=\"ear\" href=\"/dictionary/ear\">ear</a></span></span></span></span><span class=\"asset div\"><span class=\"yellow_box\"><span class=\"asset_intro\">Examples from the Corpus</span></span></span><span class=\"assetlink\"><span class=\"exaGroup cexa1 exaGroup\"><span class=\"title\">cochlea</span><span class=\"cexa1g1 exa\"><span class=\"neutral span\">• </span>The word <span class=\"NodeW\">cochlea</span> reflects their <a class=\"defRef\" title=\"resemblance\" href=\"/dictionary/resemblance\">resemblance</a> to <a class=\"defRef\" title=\"snail\" href=\"/dictionary/snail\">snail</a> <a class=\"defRef\" title=\"shell\" href=\"/dictionary/shell\">shells</a>.</span></span></span></span><span class=\"etym\"><span class=\"asset_intro\">Origin</span> <span class=\"Head\"><span class=\"HWD\">cochlea</span></span> <span class=\"Sense\" id=\"cochlea__3\"><span class=\"CENTURY\"><span class=\"neutral span\">(</span>1500-1600<span class=\"neutral span\">)</span></span> <span class=\"LANG\">Latin</span> <span class=\"TRAN\"><span class=\"neutral span\">“</span>(shell of) a snail<span class=\"neutral span\">”</span></span>, from <span class=\"LANG\">Greek</span> <span class=\"ORIGIN\">kochlias</span>, from <span class=\"ORIGIN\">kochlos</span> <span class=\"TRAN\"><span class=\"neutral span\">“</span>snail<span class=\"neutral span\">”</span></span>; because of its shape</span></span>\\n                        <span id=\\'ad_btmslot\\' class=\\'am-dictionaryshort \\'>\\r\\n        <script type=\\'text/javascript\\'>iaw.cmd.push(function() { iaw.display(\\'ad_btmslot\\'); });</script>\\r\\n    </span>\\r\\n                </div><!-- End of DIV dictionary-->\\n                    </div><!-- End of DIV entry_content-->\\n\\n            </div>\\n            <div class=\"responsive_cell2\">\\n                <div class=\"right_col\">\\n                                                <div class=\"right_box exercises\">\\r\\n        <div class=\"symbols\"> </div>\\r\\n        <div class=\"hook_title\">Exercises</div>\\r\\n        <div class=\"hover\">\\r\\n        <a href= \"/exercise/\">\\r\\n            <div>Exercises</div>\\r\\n            <ul>\\r\\n                                        <li>Vocabulary exercises help you to learn synonyms, collocations and idioms.</li>\\r\\n                            <li>Intermediate and Advanced level grammar practice with progress tests.</li>\\r\\n                            <li>Listening and pronunciation, exam preparation and more!</li>\\r\\n                        </ul>\\r\\n        </a>\\r\\n        </div>\\r\\n    </div>\\r\\n                                            <div class=\"share_panel\">\\r\\n        <a class=\"share_panel_facebook fab fa-2x fa-facebook-f\"></a>\\r\\n        <a class=\"share_panel_twitter fab fa-2x fa-twitter\"></a>\\r\\n            </div>\\r\\n                                                                    <div id=\"iotd\" class=\"box middle_box grey_box\">\\n    <div class=\"box_title\">\\n        <span class=\"box_title\" id=\"pictures_title\">Pictures of the day</span>\\n    </div>\\n    <div>\\n        What are these?\\n        <div class=\"pictures\">\\n                                    <a href=\"https://www.ldoceonline.com/dictionary/rope\"><img alt=\"Image of rope\" src=\"https://www.ldoceonline.com/media/english/illustration/rope.jpg?version=1.2.43\" /></a>\\n                            <a href=\"https://www.ldoceonline.com/dictionary/anchor\"><img alt=\"Image of anchor\" src=\"https://www.ldoceonline.com/media/english/illustration/anchor.jpg?version=1.2.43\" /></a>\\n                            </div>\\n        Click on the pictures to check.\\n    </div>\\n</div>                                                <span id=\\'ad_rightslot\\' class=\\'am-dictionaryshort \\'>\\r\\n        <script type=\\'text/javascript\\'>iaw.cmd.push(function() { iaw.display(\\'ad_rightslot\\'); });</script>\\r\\n    </span>\\r\\n                                <div class=\"browse_panel width_ad_box\">\\r\\n        <h2>Explore topics</h2>\\r\\n        <ul>\\r\\n                            <li>\\r\\n                    <a class=topic_other href=\"https://www.ldoceonline.com/Medicine-topic/\" title=\"Medicine topic\">Medicine</a>\\r\\n                </li>\\r\\n                            <li>\\r\\n                    <a class=topic_other href=\"https://www.ldoceonline.com/Transport-topic/\" title=\"Transport topic\">Transport</a>\\r\\n                </li>\\r\\n                            <li>\\r\\n                    <a class=topic_other href=\"https://www.ldoceonline.com/Gardening-topic/\" title=\"Gardening topic\">Gardening</a>\\r\\n                </li>\\r\\n                            <li>\\r\\n                    <a class=topic_other href=\"https://www.ldoceonline.com/Wind, water, sun-topic/\" title=\"Wind, water, sun topic\">Wind, water, sun</a>\\r\\n                </li>\\r\\n                    </ul>\\r\\n        <a href=\"/browse/topics.html\" class=\"seeAllResults\" title=\"See all topics\">See all topics</a>\\r\\n    </div>\\r\\n\\n                                            <div id=\"wotd\" class=\"box left_box grey_box wotd\">\\n    <span class=\"box_title\">Word of the day</span>\\n    <span class=\"title_entry\">\\n        <a href=\"https://www.ldoceonline.com/dictionary/irritable\">irritable</a>\\n    </span>\\n    <span class=\"ldoceEntry Entry\">\\n        <span class=\"newline\">\\n            <a href=\"https://www.ldoceonline.com/dictionary/irritable\">getting annoyed quickly or easily</a>\\n        </span>\\n    </span>\\n</div>\\n                                                        </div>\\n            </div>\\n        </div>\\n        <div class=\"footer\">\\r\\n    <div class=\"footer responsive_row\">\\r\\n        <div class=\"grey_part\">\\r\\n            <div class=\"responsive_cell8\">\\r\\n            <div class=\"share_links responsive_cell4\">    <div class=\"share_panel\">\\r\\n        <a class=\"share_panel_facebook fab fa-2x fa-facebook-f\"></a>\\r\\n        <a class=\"share_panel_twitter fab fa-2x fa-twitter\"></a>\\r\\n                    <a class=\"share_panel_youtube fab fa-2x fa-youtube\"></a>\\r\\n            </div>\\r\\n</div>\\r\\n            <div class=\"links responsive_cell4\">\\r\\n                <a href=\"https://www.ldoceonline.com/translator/\">Longman translator</a>\\r\\n                <a href=\"https://uk.pearson.com/pearson-privacy-and-you/cookie-policy.html\">Cookie Policy</a>\\r\\n                <a href=\"https://loginstatic.pearson.com/html/PearsonPrivacyPolicy.html\">Privacy Policy</a>\\r\\n                <a href=\"https://uk.pearson.com/legal-notice.html\">Copyright and legal</a>\\r\\n                <a href=\"https://www.pearsonelt.com/\">Pearson ELT</a>\\r\\n                <a href=\"https://www.ldoceonline.com/about.html\">About LDOCE</a>\\r\\n                <a href=\"https://www.ldoceonline.com/howtouse.html\">How to use</a>\\r\\n            </div>\\r\\n            </div>\\r\\n        </div>\\r\\n        <div class=\"blue_part\">\\r\\n            <div class=\"responsive_cell8\">\\r\\n                <div class=\"always_learning\">\\r\\n                    <img class=\"always_learning\" \\r\\n                    src=\"https://www.ldoceonline.com/external/images/always-learning.svg?version=1.2.43\"  title=\"Always learning\"/>\\r\\n                </div>\\r\\n                <div class=\"pearson\">\\r\\n                    <img class=\"pearson\" \\r\\n                    src=\"https://www.ldoceonline.com/external/images/pearson.svg?version=1.2.43\" title=\"Pearson\"/>\\r\\n                </div>\\r\\n            </div>\\r\\n        </div>\\r\\n    </div>\\r\\n</div>        <noscript><img alt=\"\" height=\"1\" width=\"1\" style=\"display:none\"\\r\\nsrc=\"https://www.facebook.com/tr?id=901804013276383&ev=PageView&noscript=1\"/></noscript>\\r\\n\\n        <script type=\"text/javascript\">\\r\\n  _qevents.push( { qacct:\"p-cfSla1Cke_iBQ\"} );\\r\\n</script>\\r\\n<noscript>\\r\\n  <div style=\"display: none;\"><img src=\"//pixel.quantserve.com/pixel/p-cfSla1Cke_iBQ.gif\" height=\"1\" width=\"1\" alt=\"Quantcast\"/></div>\\r\\n</noscript>\\r\\n\\n    </body>\\n</html>'"
      ]
     },
     "execution_count": 50,
     "metadata": {},
     "output_type": "execute_result"
    }
   ],
   "source": [
    "response.text"
   ]
  },
  {
   "cell_type": "markdown",
   "metadata": {},
   "source": [
    "## Parsing"
   ]
  },
  {
   "cell_type": "code",
   "execution_count": 57,
   "metadata": {},
   "outputs": [],
   "source": [
    "from bs4 import BeautifulSoup\n",
    "from requests import session"
   ]
  },
  {
   "cell_type": "code",
   "execution_count": 83,
   "metadata": {},
   "outputs": [],
   "source": [
    "def recupMP3(mot):\n",
    "    response = session.get(\"https://www.ldoceonline.com/dictionary/\" + mot)\n",
    "    html_doc = response.content\n",
    "    soup = BeautifulSoup(html_doc,'html.parser')\n",
    "    souplettesBody = soup.find('body')\n",
    "    findedUK = souplettesBody.findAll('span',{\"class\":\"speaker brefile fas fa-volume-up hideOnAmp\"})\n",
    "    findedUS = souplettesBody.findAll('span',{\"class\":\"speaker amefile fas fa-volume-up hideOnAmp\"})\n",
    "    for v in findedUK:\n",
    "        mp3ENG = v.get_attribute_list('data-src-mp3')\n",
    "        print (\"MP3 Anglais :\" + str(mp3ENG))\n",
    "        break\n",
    "    for v in findedUS:\n",
    "        mp3US = v.get_attribute_list('data-src-mp3')\n",
    "        print (\"MP3 Américain :\" + str(mp3US))\n",
    "        break"
   ]
  },
  {
   "cell_type": "code",
   "execution_count": 84,
   "metadata": {
    "scrolled": true
   },
   "outputs": [
    {
     "name": "stdout",
     "output_type": "stream",
     "text": [
      "MP3 Anglais :['https://www.ldoceonline.com/media/english/breProns/brelasdelove.mp3?version=1.2.43']\n",
      "MP3 Américain :['https://www.ldoceonline.com/media/english/ameProns/love1.mp3?version=1.2.43']\n"
     ]
    }
   ],
   "source": [
    "recupMP3(\"love\")"
   ]
  },
  {
   "cell_type": "code",
   "execution_count": 67,
   "metadata": {},
   "outputs": [],
   "source": [
    "def recupPOS(mot):\n",
    "    response = session.get(\"https://www.ldoceonline.com/dictionary/\" + mot)\n",
    "    html_doc = response.content\n",
    "    soup = BeautifulSoup(html_doc,'html.parser')\n",
    "    souplettesBody = soup.find('body')\n",
    "    finded = souplettesBody.findAll(\"span\", {\"class\" : \"POS\"})\n",
    "    for v in finded:\n",
    "        POS = v.string\n",
    "        print(POS)"
   ]
  },
  {
   "cell_type": "code",
   "execution_count": 68,
   "metadata": {},
   "outputs": [
    {
     "name": "stdout",
     "output_type": "stream",
     "text": [
      " verb\n",
      " noun\n",
      " verb\n",
      " noun\n",
      " noun\n"
     ]
    }
   ],
   "source": [
    "recupPOS(\"find\")"
   ]
  },
  {
   "cell_type": "code",
   "execution_count": 69,
   "metadata": {},
   "outputs": [],
   "source": [
    "def recupIPA(mot):\n",
    "    response = session.get(\"https://www.ldoceonline.com/dictionary/\" + mot)\n",
    "    html_doc = response.content\n",
    "    soup = BeautifulSoup(html_doc,'html.parser')\n",
    "    souplettesBody = soup.find('body')\n",
    "    finded = souplettesBody.findAll(\"span\", {\"class\" : \"PRON\"})\n",
    "    for v in finded:\n",
    "        POS = v.string\n",
    "        print(POS)"
   ]
  },
  {
   "cell_type": "code",
   "execution_count": 70,
   "metadata": {},
   "outputs": [
    {
     "name": "stdout",
     "output_type": "stream",
     "text": [
      "faɪnd\n",
      "faʊnd\n",
      "faɪnd\n",
      "faʊnd\n"
     ]
    }
   ],
   "source": [
    "recupIPA(\"find\")"
   ]
  },
  {
   "cell_type": "code",
   "execution_count": 77,
   "metadata": {},
   "outputs": [],
   "source": [
    "def recupALLMP3(mot):\n",
    "    response = session.get(\"https://www.ldoceonline.com/dictionary/\" + mot)\n",
    "    html_doc = response.content\n",
    "    soup = BeautifulSoup(html_doc,'html.parser')\n",
    "    souplettesBody = soup.find('body')\n",
    "    findedUK = souplettesBody.findAll('span',{\"class\":\"speaker brefile fas fa-volume-up hideOnAmp\"})\n",
    "    findedUS = souplettesBody.findAll('span',{\"class\":\"speaker amefile fas fa-volume-up hideOnAmp\"})\n",
    "    mp3ENG = []\n",
    "    mp3US = []\n",
    "    for v in findedUK:\n",
    "        mp3ENG.append(v.get_attribute_list('data-src-mp3'))\n",
    "    print (\"MP3 Anglais :\" + str(mp3ENG))\n",
    "    \n",
    "    for v in findedUS:\n",
    "        mp3US = v.get_attribute_list('data-src-mp3')\n",
    "    print (\"MP3 Américain :\" + str(mp3US))"
   ]
  },
  {
   "cell_type": "code",
   "execution_count": 75,
   "metadata": {},
   "outputs": [
    {
     "name": "stdout",
     "output_type": "stream",
     "text": [
      "MP3 Anglais :[['https://www.ldoceonline.com/media/english/breProns/find_v0205.mp3?version=1.2.43'], ['https://www.ldoceonline.com/media/english/breProns/find_v0205.mp3?version=1.2.43']]\n",
      "MP3 Américain :['https://www.ldoceonline.com/media/english/ameProns/find1.mp3?version=1.2.43']\n"
     ]
    }
   ],
   "source": [
    "recupALLMP3(\"find\")"
   ]
  }
 ],
 "metadata": {
  "kernelspec": {
   "display_name": "Python 3",
   "language": "python",
   "name": "python3"
  },
  "language_info": {
   "codemirror_mode": {
    "name": "ipython",
    "version": 3
   },
   "file_extension": ".py",
   "mimetype": "text/x-python",
   "name": "python",
   "nbconvert_exporter": "python",
   "pygments_lexer": "ipython3",
   "version": "3.8.3"
  }
 },
 "nbformat": 4,
 "nbformat_minor": 4
}
